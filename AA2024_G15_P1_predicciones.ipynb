{
  "nbformat": 4,
  "nbformat_minor": 0,
  "metadata": {
    "colab": {
      "provenance": []
    },
    "kernelspec": {
      "name": "python3",
      "language": "python",
      "display_name": "Python 3 (ipykernel)"
    },
    "language_info": {
      "name": "python"
    }
  },
  "cells": [
    {
      "cell_type": "markdown",
      "source": [
        "![uc3m logo](https://assets.onthehub.com/attachments/15/401d138e-5b75-de11-b7f9-0030487d8896/3d13020c-f96c-4a26-8c47-b617961e9c81.jpg)\n",
        "\n",
        "#AA2024 - GRUPO 15 - PRÁTICA 1\n",
        "\n",
        "**Github:** https://github.com/rosareyes/AA2024-G15-P1\n",
        "\n",
        "---\n",
        "\n",
        "**Integrantes:**\n",
        "\n",
        "Rosa Reyes - 100434072\n",
        "\n",
        "Sebastian Stoean - 100429139\n",
        "\n"
      ],
      "metadata": {
        "id": "pTpM6qvHjVTV"
      }
    },
    {
      "cell_type": "markdown",
      "source": [
        "****************************"
      ],
      "metadata": {
        "collapsed": false,
        "id": "uguvRQj18Nfc"
      }
    },
    {
      "cell_type": "markdown",
      "source": [
        "# 5.D: Predicciones para el conjunto de datos de competición\n"
      ],
      "metadata": {
        "id": "ZdsjyZmQpJDi"
      }
    },
    {
      "cell_type": "code",
      "source": [
        "import joblib\n",
        "import pandas as pd\n",
        "import numpy as np\n",
        "\n",
        "from google.colab import drive\n",
        "\n",
        "drive.mount('/content/drive')\n",
        "\n",
        "# cargamos el conjunto de datos de competición desde drive\n",
        "wind_competencia = pd.read_csv(\"/content/drive/MyDrive/AA-2024/P1/wind_comp.csv.gz\", compression=\"gzip\")\n",
        "\n",
        "# cargamos el modelo final desde el archivo\n",
        "pipeline = joblib.load(\"/content/drive/MyDrive/AA-2024/P1/modelo_final.pkl\")\n",
        "\n",
        "# Hacemos data processing previo a utilizar estos datos, igual que se ha realizado con los datos de entrenamiento y test\n",
        "cols_13_comp = [col for col in wind_competencia.columns if col.endswith('.13')]\n",
        "wind_comp_13 = wind_competencia[cols_13_comp]\n",
        "\n",
        "y_pred = pipeline.predict(wind_comp_13)\n",
        "pd.DataFrame(y_pred).to_csv('predicciones.csv', index=False)"
      ],
      "metadata": {
        "colab": {
          "base_uri": "https://localhost:8080/"
        },
        "id": "8KfEtwx9uerP",
        "outputId": "51c203a6-00cc-407d-f29e-997c527d6ac6"
      },
      "execution_count": 6,
      "outputs": [
        {
          "output_type": "stream",
          "name": "stdout",
          "text": [
            "Drive already mounted at /content/drive; to attempt to forcibly remount, call drive.mount(\"/content/drive\", force_remount=True).\n"
          ]
        }
      ]
    }
  ]
}